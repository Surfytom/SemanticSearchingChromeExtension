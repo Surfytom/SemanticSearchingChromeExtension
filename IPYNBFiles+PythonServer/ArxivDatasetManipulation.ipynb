{
 "cells": [
  {
   "cell_type": "code",
   "execution_count": 3,
   "metadata": {},
   "outputs": [],
   "source": [
    "import dask.bag as db\n",
    "import pandas as pb\n",
    "import json"
   ]
  },
  {
   "cell_type": "code",
   "execution_count": 6,
   "metadata": {},
   "outputs": [],
   "source": [
    "#Replace this with the path to the original arxiv dataset if you want which can be found here: https://www.kaggle.com/datasets/1b6883fb66c5e7f67c697c2547022cc04c9ee98c3742f9a4d6c671b4f4eda591\n",
    "#For speed and ease of use reasons a small 10000 object version of the dataset is being loaded\n",
    "loaded_data = db.read_text(\"ArxivMiniCompactDataset10000.json\").map(json.loads)"
   ]
  },
  {
   "cell_type": "code",
   "execution_count": 7,
   "metadata": {},
   "outputs": [
    {
     "name": "stdout",
     "output_type": "stream",
     "text": [
      "The dataset has 10000 entires.\n",
      "Data Structure:\n"
     ]
    },
    {
     "data": {
      "text/plain": [
       "({'pdfId': '0704.0001',\n",
       "  'title': 'Calculation of prompt diphoton production cross sections at Tevatron and   LHC energies',\n",
       "  'categories': ['hep-ph'],\n",
       "  'abstract': '  A fully differential calculation in perturbative quantum chromodynamics is presented for the production of massive photon pairs at hadron colliders. All next-to-leading order perturbative contributions from quark-antiquark, gluon-(anti)quark, and gluon-gluon subprocesses are included, as well as all-orders resummation of initial-state gluon radiation valid at next-to-next-to-leading logarithmic accuracy. The region of phase space is specified in which the calculation is most reliable. Good agreement is demonstrated with data from the Fermilab Tevatron, and predictions are made for more detailed tests with CDF and DO data. Predictions are shown for distributions of diphoton pairs produced at the energy of the Large Hadron Collider (LHC). Distributions of the diphoton pairs from the decay of a Higgs boson are contrasted with those produced from QCD processes at the LHC, showing that enhanced sensitivity to the signal can be obtained with judicious selection of events. ',\n",
       "  'version': 2007},)"
      ]
     },
     "execution_count": 7,
     "metadata": {},
     "output_type": "execute_result"
    }
   ],
   "source": [
    "print(\"The dataset has {} entires.\".format(loaded_data.count().compute()))\n",
    "print(\"Data Structure:\")\n",
    "loaded_data.take(1)"
   ]
  },
  {
   "cell_type": "code",
   "execution_count": 4,
   "metadata": {},
   "outputs": [],
   "source": [
    "trim_attributes = lambda x: {'pdfId': x['id'],\n",
    "                  'title': x['title'].replace(\"\\n\", \" \"),\n",
    "                  'categories': x['categories'].split(\" \"),\n",
    "                  'abstract': x['abstract'].replace(\"\\n\", \" \"),\n",
    "                  'version': int(x['versions'][-1][\"created\"].split(\" \")[3]),\n",
    "                }"
   ]
  },
  {
   "cell_type": "code",
   "execution_count": null,
   "metadata": {},
   "outputs": [],
   "source": [
    "trimmed_loaded_data = (loaded_data.map(trim_attributes).compute())"
   ]
  },
  {
   "cell_type": "code",
   "execution_count": null,
   "metadata": {},
   "outputs": [],
   "source": [
    "removeUnwantedPapers = lambda x: x[\"categories\"].__contains__(\"cs\") == True and x[\"categories\"].__contains__(\"physics\") == False"
   ]
  },
  {
   "cell_type": "code",
   "execution_count": null,
   "metadata": {},
   "outputs": [],
   "source": [
    "trimmed_loaded_data = (loaded_data.filter(removeUnwantedPapers).map(trim_attributes).compute())"
   ]
  },
  {
   "cell_type": "code",
   "execution_count": null,
   "metadata": {},
   "outputs": [],
   "source": [
    "with open(\"ArxivTrimmedDataset.json\", \"w\") as f:\n",
    "    for i in range(0, len(trimmed_loaded_data)):\n",
    "        json.dump(trimmed_loaded_data[i], f)\n",
    "        if(i < (len(trimmed_loaded_data)-1)):\n",
    "            f.write('\\n')"
   ]
  },
  {
   "cell_type": "code",
   "execution_count": null,
   "metadata": {},
   "outputs": [],
   "source": [
    "with open(\"ArxivCSOnlyDataset.json\", \"w\") as f:\n",
    "    for i in range(0, len(trimmed_loaded_data)):\n",
    "        json.dump(trimmed_loaded_data[i], f)\n",
    "        if(i < (len(trimmed_loaded_data)-1)):\n",
    "            f.write('\\n')"
   ]
  }
 ],
 "metadata": {
  "kernelspec": {
   "display_name": "PythonGUI",
   "language": "python",
   "name": "python3"
  },
  "language_info": {
   "codemirror_mode": {
    "name": "ipython",
    "version": 3
   },
   "file_extension": ".py",
   "mimetype": "text/x-python",
   "name": "python",
   "nbconvert_exporter": "python",
   "pygments_lexer": "ipython3",
   "version": "3.10.9"
  },
  "orig_nbformat": 4
 },
 "nbformat": 4,
 "nbformat_minor": 2
}
