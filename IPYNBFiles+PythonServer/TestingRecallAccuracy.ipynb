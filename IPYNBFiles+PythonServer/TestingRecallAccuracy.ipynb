{
 "cells": [
  {
   "cell_type": "code",
   "execution_count": null,
   "metadata": {},
   "outputs": [],
   "source": [
    "import weaviate\n",
    "import json"
   ]
  },
  {
   "cell_type": "code",
   "execution_count": null,
   "metadata": {},
   "outputs": [],
   "source": [
    "client = weaviate.Client(   \n",
    "    url=\"http://localhost:8080\"\n",
    ")"
   ]
  },
  {
   "cell_type": "code",
   "execution_count": null,
   "metadata": {},
   "outputs": [],
   "source": [
    "def PrintResults (queryResults):\n",
    "    # Prints nicer looking results that outputting the raw json\n",
    "\n",
    "    links = []\n",
    "    certainties = []\n",
    "\n",
    "    results = queryResults[\"data\"][\"Get\"][\"Paper\"]\n",
    "\n",
    "    for paper in results:\n",
    "\n",
    "        certainty = str(paper[\"_additional\"][\"certainty\"])\n",
    "\n",
    "        resultPdfLink = paper[\"pdfId\"]\n",
    "\n",
    "        if (paper[\"pdfId\"].__contains__(\"/\") is False):\n",
    "            resultPdfLink = resultPdfLink.replace(\"-\", \".\");\n",
    "    \n",
    "        resultPdfLink = \"https://arxiv.org/pdf/\" + resultPdfLink + \".pdf\";\n",
    "\n",
    "        certainties.append(certainty)\n",
    "        links.append(resultPdfLink)\n",
    "\n",
    "    for c in certainties:\n",
    "        print(c[:5])\n",
    "    for l in links:\n",
    "        print(l)"
   ]
  },
  {
   "cell_type": "code",
   "execution_count": null,
   "metadata": {},
   "outputs": [],
   "source": [
    "# test case one\n",
    "\n",
    "inputText = \"In natural language processing, Latent Dirichlet Allocation (LDA) is a generative statistical model that explains a set of observations through unobserved groups, and each group explains why some parts of the data are similar. The LDA is an example of a topic model. In this, observations (e.g., words) are collected into documents, and each word's presence is attributable to one of the document's topics. Each document will contain a small number of topics.\"\n",
    "\n",
    "testArgument = {\n",
    "    \"concepts\": [inputText]\n",
    "}\n",
    "\n",
    "data = client.query.get(\"Paper\", [\"pdfId title abstract _additional {certainty}\"]).with_near_text(testArgument).with_limit(10).do()\n",
    "\n",
    "PrintResults(data)"
   ]
  },
  {
   "cell_type": "code",
   "execution_count": null,
   "metadata": {},
   "outputs": [],
   "source": [
    "# test case two\n",
    "\n",
    "inputText = \"In natural language processing (NLP), a word embedding is a representation of a word. The embedding is used in text analysis. Typically, the representation is a real-valued vector that encodes the meaning of the word in such a way that words that are closer in the vector space are expected to be similar in meaning.\"\n",
    "\n",
    "testArgument = {\n",
    "    \"concepts\": [inputText]\n",
    "}\n",
    "\n",
    "data = client.query.get(\"Paper\", [\"pdfId title abstract _additional {certainty}\"]).with_near_text(testArgument).with_limit(10).do()\n",
    "\n",
    "PrintResults(data)"
   ]
  },
  {
   "cell_type": "code",
   "execution_count": null,
   "metadata": {},
   "outputs": [],
   "source": [
    "# test case three\n",
    "\n",
    "inputText = \"In computer science, concurrency is the ability of different parts or units of a program, algorithm, or problem to be executed out-of-order or in partial order, without affecting the outcome. This allows for parallel execution of the concurrent units, which can significantly improve overall speed of the execution in multi-processor and multi-core systems. In more technical terms, concurrency refers to the decomposability of a program, algorithm, or problem into order-independent or partially-ordered components or units of computation.\"\n",
    "\n",
    "testArgument = {\n",
    "    \"concepts\": [inputText]\n",
    "}\n",
    "\n",
    "data = client.query.get(\"Paper\", [\"pdfId title abstract _additional {certainty}\"]).with_near_text(testArgument).with_limit(10).do()\n",
    "\n",
    "PrintResults(data)"
   ]
  },
  {
   "cell_type": "code",
   "execution_count": null,
   "metadata": {},
   "outputs": [],
   "source": [
    "# test case four\n",
    "\n",
    "inputText = \"In computer science, a linked list is a linear collection of data elements whose order is not given by their physical placement in memory. Instead, each element points to the next. It is a data structure consisting of a collection of nodes which together represent a sequence. In its most basic form, each node contains: data, and a reference (in other words, a link) to the next node in the sequence.\"\n",
    "\n",
    "testArgument = {\n",
    "    \"concepts\": [inputText]\n",
    "}\n",
    "\n",
    "data = client.query.get(\"Paper\", [\"pdfId title abstract _additional {certainty}\"]).with_near_text(testArgument).with_limit(10).do()\n",
    "\n",
    "PrintResults(data)"
   ]
  },
  {
   "cell_type": "code",
   "execution_count": null,
   "metadata": {},
   "outputs": [],
   "source": [
    "# test case five\n",
    "\n",
    "inputText = \"In mathematics, computer science and network science, network theory is a part of graph theory. It defines networks as graphs where the nodes or edges possess attributes. Network theory analyses these networks over the symmetric relations or asymmetric relations between their (discrete) components.\"\n",
    "\n",
    "testArgument = {\n",
    "    \"concepts\": [inputText]\n",
    "}\n",
    "\n",
    "data = client.query.get(\"Paper\", [\"pdfId title abstract _additional {certainty}\"]).with_near_text(testArgument).with_limit(10).do()\n",
    "\n",
    "PrintResults(data)"
   ]
  }
 ],
 "metadata": {
  "kernelspec": {
   "display_name": "PythonGUI",
   "language": "python",
   "name": "python3"
  },
  "language_info": {
   "codemirror_mode": {
    "name": "ipython",
    "version": 3
   },
   "file_extension": ".py",
   "mimetype": "text/x-python",
   "name": "python",
   "nbconvert_exporter": "python",
   "pygments_lexer": "ipython3",
   "version": "3.10.9"
  },
  "orig_nbformat": 4
 },
 "nbformat": 4,
 "nbformat_minor": 2
}
