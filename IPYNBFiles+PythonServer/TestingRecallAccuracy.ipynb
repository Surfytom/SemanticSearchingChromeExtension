{
 "cells": [
  {
   "cell_type": "code",
   "execution_count": 1,
   "metadata": {},
   "outputs": [],
   "source": [
    "import weaviate\n",
    "import json"
   ]
  },
  {
   "cell_type": "code",
   "execution_count": 2,
   "metadata": {},
   "outputs": [],
   "source": [
    "client = weaviate.Client(   \n",
    "    url=\"http://localhost:8080\"\n",
    ")"
   ]
  },
  {
   "cell_type": "code",
   "execution_count": 10,
   "metadata": {},
   "outputs": [],
   "source": [
    "def PrintResults (queryResults):\n",
    "    # Prints nicer looking results that outputting the raw json\n",
    "\n",
    "    links = []\n",
    "    certainties = []\n",
    "\n",
    "    results = queryResults[\"data\"][\"Get\"][\"Paper\"]\n",
    "\n",
    "    for paper in results:\n",
    "\n",
    "        certainty = str(paper[\"_additional\"][\"certainty\"])\n",
    "\n",
    "        resultPdfLink = paper[\"pdfId\"]\n",
    "\n",
    "        if (paper[\"pdfId\"].__contains__(\"/\") is False):\n",
    "            resultPdfLink = resultPdfLink.replace(\"-\", \".\");\n",
    "    \n",
    "        resultPdfLink = \"https://arxiv.org/pdf/\" + resultPdfLink + \".pdf\";\n",
    "\n",
    "        certainties.append(certainty)\n",
    "        links.append(resultPdfLink)\n",
    "\n",
    "    for c in certainties:\n",
    "        print(c[:5])\n",
    "    for l in links:\n",
    "        print(l)"
   ]
  },
  {
   "cell_type": "code",
   "execution_count": 11,
   "metadata": {},
   "outputs": [
    {
     "name": "stdout",
     "output_type": "stream",
     "text": [
      "0.923\n",
      "0.902\n",
      "0.899\n",
      "0.897\n",
      "0.895\n",
      "0.883\n",
      "0.880\n",
      "0.878\n",
      "0.877\n",
      "0.873\n",
      "https://arxiv.org/pdf/1507.06593.pdf\n",
      "https://arxiv.org/pdf/2112.03101.pdf\n",
      "https://arxiv.org/pdf/1711.04305.pdf\n",
      "https://arxiv.org/pdf/1401.6169.pdf\n",
      "https://arxiv.org/pdf/1804.04749.pdf\n",
      "https://arxiv.org/pdf/2207.14687.pdf\n",
      "https://arxiv.org/pdf/2104.07969.pdf\n",
      "https://arxiv.org/pdf/2110.08591.pdf\n",
      "https://arxiv.org/pdf/2102.04449.pdf\n",
      "https://arxiv.org/pdf/1511.03546.pdf\n"
     ]
    }
   ],
   "source": [
    "# test case one\n",
    "\n",
    "inputText = \"In natural language processing, Latent Dirichlet Allocation (LDA) is a generative statistical model that explains a set of observations through unobserved groups, and each group explains why some parts of the data are similar. The LDA is an example of a topic model. In this, observations (e.g., words) are collected into documents, and each word's presence is attributable to one of the document's topics. Each document will contain a small number of topics.\"\n",
    "\n",
    "testArgument = {\n",
    "    \"concepts\": [inputText]\n",
    "}\n",
    "\n",
    "data = client.query.get(\"Paper\", [\"pdfId title abstract _additional {certainty}\"]).with_near_text(testArgument).with_limit(10).do()\n",
    "\n",
    "PrintResults(data)"
   ]
  },
  {
   "cell_type": "code",
   "execution_count": 12,
   "metadata": {},
   "outputs": [
    {
     "name": "stdout",
     "output_type": "stream",
     "text": [
      "0.899\n",
      "0.894\n",
      "0.886\n",
      "0.885\n",
      "0.884\n",
      "0.884\n",
      "0.884\n",
      "0.881\n",
      "0.879\n",
      "0.878\n",
      "https://arxiv.org/pdf/2301.00709.pdf\n",
      "https://arxiv.org/pdf/2208.08386.pdf\n",
      "https://arxiv.org/pdf/1811.11002.pdf\n",
      "https://arxiv.org/pdf/1809.02765.pdf\n",
      "https://arxiv.org/pdf/1901.07176.pdf\n",
      "https://arxiv.org/pdf/2007.07287.pdf\n",
      "https://arxiv.org/pdf/1711.00331.pdf\n",
      "https://arxiv.org/pdf/1911.00845.pdf\n",
      "https://arxiv.org/pdf/2209.10583.pdf\n",
      "https://arxiv.org/pdf/1911.04975.pdf\n"
     ]
    }
   ],
   "source": [
    "# test case two\n",
    "\n",
    "inputText = \"In natural language processing (NLP), a word embedding is a representation of a word. The embedding is used in text analysis. Typically, the representation is a real-valued vector that encodes the meaning of the word in such a way that words that are closer in the vector space are expected to be similar in meaning.\"\n",
    "\n",
    "testArgument = {\n",
    "    \"concepts\": [inputText]\n",
    "}\n",
    "\n",
    "data = client.query.get(\"Paper\", [\"pdfId title abstract _additional {certainty}\"]).with_near_text(testArgument).with_limit(10).do()\n",
    "\n",
    "PrintResults(data)"
   ]
  },
  {
   "cell_type": "code",
   "execution_count": 13,
   "metadata": {},
   "outputs": [
    {
     "name": "stdout",
     "output_type": "stream",
     "text": [
      "0.890\n",
      "0.869\n",
      "0.857\n",
      "0.853\n",
      "0.849\n",
      "0.848\n",
      "0.839\n",
      "0.835\n",
      "0.829\n",
      "0.828\n",
      "https://arxiv.org/pdf/1406.0184.pdf\n",
      "https://arxiv.org/pdf/1203.4751.pdf\n",
      "https://arxiv.org/pdf/1406.3485.pdf\n",
      "https://arxiv.org/pdf/1710.07588.pdf\n",
      "https://arxiv.org/pdf/0810.1316.pdf\n",
      "https://arxiv.org/pdf/1511.01779.pdf\n",
      "https://arxiv.org/pdf/1803.10067.pdf\n",
      "https://arxiv.org/pdf/1705.02851.pdf\n",
      "https://arxiv.org/pdf/1909.11644.pdf\n",
      "https://arxiv.org/pdf/1812.06011.pdf\n"
     ]
    }
   ],
   "source": [
    "# test case three\n",
    "\n",
    "inputText = \"In computer science, concurrency is the ability of different parts or units of a program, algorithm, or problem to be executed out-of-order or in partial order, without affecting the outcome. This allows for parallel execution of the concurrent units, which can significantly improve overall speed of the execution in multi-processor and multi-core systems. In more technical terms, concurrency refers to the decomposability of a program, algorithm, or problem into order-independent or partially-ordered components or units of computation.\"\n",
    "\n",
    "testArgument = {\n",
    "    \"concepts\": [inputText]\n",
    "}\n",
    "\n",
    "data = client.query.get(\"Paper\", [\"pdfId title abstract _additional {certainty}\"]).with_near_text(testArgument).with_limit(10).do()\n",
    "\n",
    "PrintResults(data)"
   ]
  },
  {
   "cell_type": "code",
   "execution_count": 14,
   "metadata": {},
   "outputs": [
    {
     "name": "stdout",
     "output_type": "stream",
     "text": [
      "0.797\n",
      "0.761\n",
      "0.761\n",
      "0.760\n",
      "0.760\n",
      "0.759\n",
      "0.759\n",
      "0.757\n",
      "0.756\n",
      "0.755\n",
      "https://arxiv.org/pdf/0908.3089.pdf\n",
      "https://arxiv.org/pdf/1305.6757.pdf\n",
      "https://arxiv.org/pdf/2207.12942.pdf\n",
      "https://arxiv.org/pdf/0905.2214.pdf\n",
      "https://arxiv.org/pdf/1403.0764.pdf\n",
      "https://arxiv.org/pdf/cs/0308041.pdf\n",
      "https://arxiv.org/pdf/1009.0929.pdf\n",
      "https://arxiv.org/pdf/1504.00785.pdf\n",
      "https://arxiv.org/pdf/1004.1001.pdf\n",
      "https://arxiv.org/pdf/1710.08748.pdf\n"
     ]
    }
   ],
   "source": [
    "# test case four\n",
    "\n",
    "inputText = \"In computer science, a linked list is a linear collection of data elements whose order is not given by their physical placement in memory. Instead, each element points to the next. It is a data structure consisting of a collection of nodes which together represent a sequence. In its most basic form, each node contains: data, and a reference (in other words, a link) to the next node in the sequence.\"\n",
    "\n",
    "testArgument = {\n",
    "    \"concepts\": [inputText]\n",
    "}\n",
    "\n",
    "data = client.query.get(\"Paper\", [\"pdfId title abstract _additional {certainty}\"]).with_near_text(testArgument).with_limit(10).do()\n",
    "\n",
    "PrintResults(data)"
   ]
  },
  {
   "cell_type": "code",
   "execution_count": null,
   "metadata": {},
   "outputs": [],
   "source": [
    "# test case five\n",
    "\n",
    "inputText = \"In mathematics, computer science and network science, network theory is a part of graph theory. It defines networks as graphs where the nodes or edges possess attributes. Network theory analyses these networks over the symmetric relations or asymmetric relations between their (discrete) components.\"\n",
    "\n",
    "testArgument = {\n",
    "    \"concepts\": [inputText]\n",
    "}\n",
    "\n",
    "data = client.query.get(\"Paper\", [\"pdfId title abstract _additional {certainty}\"]).with_near_text(testArgument).with_limit(10).do()\n",
    "\n",
    "PrintResults(data)"
   ]
  }
 ],
 "metadata": {
  "kernelspec": {
   "display_name": "PythonGUI",
   "language": "python",
   "name": "python3"
  },
  "language_info": {
   "codemirror_mode": {
    "name": "ipython",
    "version": 3
   },
   "file_extension": ".py",
   "mimetype": "text/x-python",
   "name": "python",
   "nbconvert_exporter": "python",
   "pygments_lexer": "ipython3",
   "version": "3.10.9"
  },
  "orig_nbformat": 4
 },
 "nbformat": 4,
 "nbformat_minor": 2
}
