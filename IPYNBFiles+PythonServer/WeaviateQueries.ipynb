{
 "cells": [
  {
   "cell_type": "code",
   "execution_count": 1,
   "metadata": {},
   "outputs": [],
   "source": [
    "import weaviate\n",
    "import json\n",
    "import pandas"
   ]
  },
  {
   "cell_type": "code",
   "execution_count": 2,
   "metadata": {},
   "outputs": [],
   "source": [
    "client = weaviate.Client(   \n",
    "    url=\"http://localhost:8080\"\n",
    ")"
   ]
  },
  {
   "cell_type": "code",
   "execution_count": 9,
   "metadata": {},
   "outputs": [
    {
     "name": "stdout",
     "output_type": "stream",
     "text": [
      "{'classes': [{'class': 'Paper', 'description': 'Articles', 'invertedIndexConfig': {'bm25': {'b': 0.75, 'k1': 1.2}, 'cleanupIntervalSeconds': 60, 'stopwords': {'additions': None, 'preset': 'en', 'removals': None}}, 'moduleConfig': {'text2vec-transformers': {'poolingStrategy': 'masked_mean', 'vectorizeClassName': True}}, 'properties': [{'dataType': ['string'], 'description': 'The id', 'indexInverted': False, 'moduleConfig': {'text2vec-transformers': {'skip': True, 'vectorizePropertyName': False}}, 'name': 'pdfId', 'tokenization': 'word'}, {'dataType': ['text'], 'description': 'The abstract', 'indexInverted': True, 'moduleConfig': {'text2vec-transformers': {'skip': False, 'vectorizePropertyName': False}}, 'name': 'abstract', 'tokenization': 'word'}, {'dataType': ['string[]'], 'description': 'The categories', 'indexInverted': False, 'moduleConfig': {'text2vec-transformers': {'options': {'useCache': True, 'useGPU': True, 'waitForModel': True}, 'skip': True, 'vectorizePropertyName': False}}, 'name': 'categories', 'tokenization': 'word'}, {'dataType': ['int'], 'description': 'The year of the most recent version of the paper', 'indexInverted': False, 'moduleConfig': {'text2vec-transformers': {'skip': True, 'vectorizePropertyName': False}}, 'name': 'version'}], 'replicationConfig': {'factor': 1}, 'shardingConfig': {'virtualPerPhysical': 128, 'desiredCount': 1, 'actualCount': 1, 'desiredVirtualCount': 128, 'actualVirtualCount': 128, 'key': '_id', 'strategy': 'hash', 'function': 'murmur3'}, 'vectorIndexConfig': {'skip': False, 'cleanupIntervalSeconds': 300, 'maxConnections': 64, 'efConstruction': 128, 'ef': -1, 'dynamicEfMin': 100, 'dynamicEfMax': 500, 'dynamicEfFactor': 8, 'vectorCacheMaxObjects': 1000000000000, 'flatSearchCutoff': 40000, 'distance': 'cosine', 'pq': {'enabled': False, 'bitCompression': False, 'segments': 0, 'centroids': 256, 'encoder': {'type': 'kmeans', 'distribution': 'log-normal'}}}, 'vectorIndexType': 'hnsw', 'vectorizer': 'text2vec-transformers'}]}\n"
     ]
    }
   ],
   "source": [
    "print(client.schema.get())"
   ]
  },
  {
   "cell_type": "code",
   "execution_count": 8,
   "metadata": {},
   "outputs": [],
   "source": [
    "client.schema.create_class({\n",
    "    \"class\": \"Paper\",\n",
    "    \"description\": \"Articles\",  # description of the class\n",
    "    \"properties\": [\n",
    "        {\n",
    "            \"dataType\": [\"string\"],\n",
    "            \"description\": \"The id\",\n",
    "            \"name\": \"pdfId\",\n",
    "            \"moduleConfig\": {\n",
    "                \"text2vec-transformers\": {\n",
    "                    \"skip\": True\n",
    "                }\n",
    "            },\n",
    "            \"indexInverted\": False\n",
    "        },\n",
    "        {\n",
    "            \"dataType\": [\"text\"],\n",
    "            \"description\": \"The abstract\",\n",
    "            \"name\": \"abstract\",\n",
    "            \"moduleConfig\": {\n",
    "                \"text2vec-transformers\": {\n",
    "                    \"skip\": False\n",
    "                }\n",
    "            },\n",
    "            \"indexInverted\": True\n",
    "        },\n",
    "        {\n",
    "            \"dataType\": [\"string[]\"],\n",
    "            \"description\": \"The categories\",\n",
    "            \"name\": \"categories\",\n",
    "            \"moduleConfig\": {\n",
    "                \"text2vec-transformers\": {\n",
    "                    \"skip\": True,\n",
    "                    \"options\": {\n",
    "                        \"waitForModel\": True,\n",
    "                        \"useGPU\": True,\n",
    "                        \"useCache\": True\n",
    "                    }\n",
    "                }\n",
    "            },\n",
    "            \"indexInverted\": False\n",
    "        },\n",
    "        {\n",
    "            \"dataType\": [\"int\"],\n",
    "            \"description\": \"The year of the most recent version of the paper\",\n",
    "            \"name\": \"version\",\n",
    "            \"moduleConfig\": {\n",
    "                \"text2vec-transformers\": {\n",
    "                    \"skip\": True\n",
    "                }\n",
    "            },\n",
    "            \"indexInverted\": False\n",
    "        },\n",
    "    ],\n",
    "    \"vectorizer\": \"text2vec-transformers\"\n",
    "})"
   ]
  },
  {
   "cell_type": "code",
   "execution_count": 65,
   "metadata": {},
   "outputs": [],
   "source": [
    "data = client.query.get(\"Paper\", [\"pdfId\"]).with_limit(500).do()"
   ]
  },
  {
   "cell_type": "code",
   "execution_count": 14,
   "metadata": {},
   "outputs": [],
   "source": [
    "data = client.query.aggregate(\"Paper\").with_fields(\"meta {count}\").do()"
   ]
  },
  {
   "cell_type": "code",
   "execution_count": 17,
   "metadata": {},
   "outputs": [],
   "source": [
    "nearText = {\n",
    "    \"concepts\": [\"Specifically the LDA equation has two arguments. The first being a dirichlet distribution of documents in a space in which each axis is a topic. The second being a word space with each word being an axis with the topics placed within that space to show how words are weighted between topics. These arguments are then refined to try to get the best probability of reproducing the original documents. These refined arguments can then be used on a new document to place it into the space mentioned above and assign a probability of being a certain topic.\"]\n",
    "}"
   ]
  },
  {
   "cell_type": "code",
   "execution_count": 20,
   "metadata": {},
   "outputs": [],
   "source": [
    "data = client.query.get(\"Paper\", [\"pdfId\"]).with_near_text(nearText).with_limit(5).do()"
   ]
  },
  {
   "cell_type": "code",
   "execution_count": 6,
   "metadata": {},
   "outputs": [],
   "source": [
    "#client.schema.delete_class(class_name=\"Paper\")"
   ]
  },
  {
   "cell_type": "code",
   "execution_count": 21,
   "metadata": {},
   "outputs": [
    {
     "name": "stdout",
     "output_type": "stream",
     "text": [
      "{\n",
      "    \"data\": {\n",
      "        \"Get\": {\n",
      "            \"Paper\": [\n",
      "                {\n",
      "                    \"pdfId\": \"2102-04449\"\n",
      "                },\n",
      "                {\n",
      "                    \"pdfId\": \"1606-00577\"\n",
      "                },\n",
      "                {\n",
      "                    \"pdfId\": \"1812-05813\"\n",
      "                },\n",
      "                {\n",
      "                    \"pdfId\": \"1506-08422\"\n",
      "                },\n",
      "                {\n",
      "                    \"pdfId\": \"1410-6991\"\n",
      "                }\n",
      "            ]\n",
      "        }\n",
      "    }\n",
      "}\n"
     ]
    }
   ],
   "source": [
    "print(json.dumps(data, indent=4))"
   ]
  },
  {
   "cell_type": "code",
   "execution_count": 10,
   "metadata": {},
   "outputs": [],
   "source": [
    "def loadFromJson():\n",
    "    dataset = pandas.read_json(\"ArxivCSOnlyDataset.json\", lines=True)\n",
    "    dataset = dataset.reset_index()\n",
    "\n",
    "    for index, row in dataset.iterrows():\n",
    "        returnRow = row.to_dict()\n",
    "        del returnRow[\"index\"]\n",
    "        returnRow[\"pdfId\"] = str(returnRow[\"pdfId\"]).replace(\".\", \"-\")\n",
    "        yield returnRow"
   ]
  },
  {
   "attachments": {},
   "cell_type": "markdown",
   "metadata": {},
   "source": [
    "# Batch Efficiency Testing\n",
    "\n",
    "batch-size num-workers time-to-complete 10000 inserts\n",
    "\n",
    "5000        1           1m 51.1s\n",
    "5000        2           1m 50.5s\n",
    "\n",
    "1000        1           1m 48.7s\n",
    "1000        2           1m 48.3s\n",
    "\n",
    "500         1           1m 50.9s\n",
    "500         2           1m 51.4s\n",
    "\n",
    "10          1           1m 51s\n",
    "10          2           1m 53s\n"
   ]
  },
  {
   "cell_type": "code",
   "execution_count": 12,
   "metadata": {},
   "outputs": [],
   "source": [
    "def check_batch_result(results: dict):\n",
    "  \"\"\"\n",
    "  Check batch results for errors.\n",
    "\n",
    "  Parameters\n",
    "  ----------\n",
    "  results : dict\n",
    "      The Weaviate batch creation return value.\n",
    "  \"\"\"\n",
    "\n",
    "  if results is not None:\n",
    "    for result in results:\n",
    "      if \"result\" in result and \"errors\" in result[\"result\"]:\n",
    "        if \"error\" in result[\"result\"][\"errors\"]:\n",
    "          print(result[\"result\"])"
   ]
  },
  {
   "cell_type": "code",
   "execution_count": 13,
   "metadata": {},
   "outputs": [],
   "source": [
    "client.batch.configure(\n",
    "  batch_size=1000,\n",
    "  dynamic=True,\n",
    "  num_workers=1,\n",
    "  callback=check_batch_result\n",
    ")\n",
    "\n",
    "with client.batch as batch:\n",
    "    for obj in loadFromJson():\n",
    "        #print(obj[\"pdfId\"])\n",
    "        batch.add_data_object(\n",
    "            obj,\n",
    "            class_name=\"Paper\"\n",
    "        )"
   ]
  }
 ],
 "metadata": {
  "kernelspec": {
   "display_name": "PythonGUI",
   "language": "python",
   "name": "python3"
  },
  "language_info": {
   "codemirror_mode": {
    "name": "ipython",
    "version": 3
   },
   "file_extension": ".py",
   "mimetype": "text/x-python",
   "name": "python",
   "nbconvert_exporter": "python",
   "pygments_lexer": "ipython3",
   "version": "3.10.9"
  },
  "orig_nbformat": 4
 },
 "nbformat": 4,
 "nbformat_minor": 2
}
